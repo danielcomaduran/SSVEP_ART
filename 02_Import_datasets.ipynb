{
 "cells": [
  {
   "cell_type": "markdown",
   "metadata": {},
   "source": [
    "# Import Datasets\n",
    "This Jupyter notebook imports the Beta and Temple University datasets. Instructions on how to download each dataset are included in the [01_Readme.md](#../01_README.md) file\n",
    "\n",
    "**Note:** The directories of the datasets must be changed according to your folder configuration. \n"
   ]
  },
  {
   "cell_type": "code",
   "execution_count": 1,
   "metadata": {},
   "outputs": [],
   "source": [
    "# Import packages\n",
    "import os\n",
    "import numpy as np\n",
    "import matplotlib.pyplot as plt\n",
    "from Functions import file_converters\n",
    "\n",
    "%matplotlib inline\n",
    "\n",
    "absolute_path = os.getcwd()\n",
    "\n",
    "# Settings - Change according to your needs\n",
    "# - Paths\n",
    "beta_path = 'Data\\\\BETA Dataset'            # Relative path for BETA dataset\n",
    "temple_path = 'Data\\\\Temple artifact data'  # Relative path for Temple dataset\n",
    "\n",
    "# - Save data\n",
    "save_beta = False   # Boolean to save data to .npz file\n",
    "save_temple = False # Boolean to save data to .npz file\n",
    "\n",
    "# - Trials to import. Select trials as a list of strings\n",
    "beta_trials = ['S1', 'S2', 'S3']        \n",
    "temple_trials = ['00000630_s002_t001']  # List of trials [.edf file type]\n",
    "temple_labels = ['labels_01_tcp_ar']    # List of labels [.csv file type]\n",
    "\n",
    "plot_imported = False   # Boolean to plot the imported data"
   ]
  },
  {
   "cell_type": "markdown",
   "metadata": {},
   "source": [
    "## Beta Dataset\n",
    "First, we will import the trials from the [BETA dataset](http://bci.med.tsinghua.edu.cn/download.html). The files are imported from a `.mat` and converted to a `.npz` file type."
   ]
  },
  {
   "cell_type": "code",
   "execution_count": 2,
   "metadata": {},
   "outputs": [],
   "source": [
    "# Initialize list to store data\n",
    "beta_data = [None]*len(beta_trials)\n",
    "\n",
    "# Import data from trials chosen\n",
    "for i, trial in enumerate(beta_trials):\n",
    "    temp_trial = os.path.join(absolute_path, beta_path, trial)\n",
    "    beta_data[i] = file_converters.mat_to_npz(temp_trial, save_file=save_beta, save_name=trial)\n",
    "\n",
    "    if plot_imported:\n",
    "        nchannels = 5  # Number of channels to plot\n",
    "        for j, f in enumerate([10, 12, 15]):\n",
    "            temp_data = beta_data[i][0][:,0:nchannels,j] # Temp variable to plot data\n",
    "            srate = beta_data[i][1] # Sampling rate [Hz]\n",
    "            temp_time = np.linspace(0, np.size(temp_data,0)/srate, np.size(temp_data,0))\n",
    "            fig, ax = plt.subplots()\n",
    "            ax.plot(temp_time, temp_data*1e6 - np.linspace(0,nchannels*20,nchannels))\n",
    "            ax.set_title(f'{f} Hz - {trial}')\n",
    "            ax.set_xlabel('Time [sec]')\n",
    "            ax.set_ylabel('Amplitude [$\\mu$V]')\n",
    "            ax.grid()"
   ]
  },
  {
   "cell_type": "markdown",
   "metadata": {},
   "source": [
    "## Temple University Dataset\n",
    "Second, we will import the eye movement and muscle artifacts from the [Temple University database](https://isip.piconepress.com/projects/tuh_eeg/html/downloads.shtml#i_rsyn). The files are imported from a `.edf` and converted to a `.npz` file type."
   ]
  },
  {
   "cell_type": "code",
   "execution_count": 5,
   "metadata": {},
   "outputs": [
    {
     "name": "stdout",
     "output_type": "stream",
     "text": [
      "Extracting EDF parameters from c:\\Users\\danie\\OneDrive - University of Calgary\\PDF\\Proyects\\SSVEP_ART\\Data\\Temple artifact data\\00000630_s002_t001.edf...\n",
      "EDF file detected\n",
      "Setting channel info structure...\n",
      "Creating raw.info structure...\n"
     ]
    }
   ],
   "source": [
    "# Initialize list to store data\n",
    "temple_data = [None]*len(temple_trials)\n",
    "\n",
    "# Import data from trials chosen\n",
    "for i, trial in enumerate(temple_trials):\n",
    "    temp_trial = os.path.join(absolute_path, temple_path, trial)\n",
    "    temp_label = os.path.join(absolute_path, temple_path, temple_labels[i])\n",
    "    temple_data[i] = file_converters.edf_to_npz(temp_trial, temp_label, save_file=save_temple, \\\n",
    "        save_name='artifact_data')\n",
    "\n",
    "if plot_imported:\n",
    "    n_channels = 5  # Number of channels to plot\n",
    "    n_artifacts = 2 # Number of artifacts to plot\n",
    "    for i, trial in enumerate(temple_data):\n",
    "        for j in range(n_artifacts):\n",
    "            # Eye movement artifact data\n",
    "            eye_data = trial[0][j][:,0:n_channels] # EEG eye artifact data [V]\n",
    "            artifact_srate = trial[2]           # Sampling rate [Hz]\n",
    "            eye_time = np.linspace(0, len(eye_data)/artifact_srate, len(eye_data))\n",
    "\n",
    "            # Muscle artifact data\n",
    "            mus_data = trial[1][j][:,0:n_channels]\n",
    "            mus_time = np.linspace(0, len(mus_data)/artifact_srate, len(mus_data))\n",
    "\n",
    "            fig, ax = plt.subplots(1,2)\n",
    "            ax[0].plot(eye_time, eye_data*1e6 - np.linspace(0, n_channels*20, n_channels))\n",
    "            ax[0].set_title(f'Eye artifact {i}')\n",
    "            ax[0].set_xlabel('Time [sec]')\n",
    "            ax[0].set_ylabel('EEG [$\\mu$V]')\n",
    "            ax[0].grid()\n",
    "\n",
    "            ax[1].plot(mus_time, mus_data*1e6 - np.linspace(0, n_channels*20, n_channels))\n",
    "            ax[1].set_title(f'Muscle artifact {i}')\n",
    "            ax[1].set_xlabel('Time [sec]')\n",
    "            ax[1].grid()\n",
    "\n",
    "            plt.tight_layout()\n",
    "            plt.show()"
   ]
  },
  {
   "cell_type": "markdown",
   "metadata": {},
   "source": [
    "# Next steps\n",
    "After the data is imported and saved to the `.npz` files, run the [03_Conv_EEG.ipynb](03_Convolve_EEG.ipynb) to convolve the clean (BETA dataset) and artifact (Temple University) data. \n",
    "\n",
    "The convolved dataset can then be used to test multiple manual and automated artifact removal tools."
   ]
  }
 ],
 "metadata": {
  "interpreter": {
   "hash": "fb698bdeab99cfbf9e31cab566d99a06e057f2dec3dcc8097ebabb329e860e16"
  },
  "kernelspec": {
   "display_name": "Python 3.9.7 ('base')",
   "language": "python",
   "name": "python3"
  },
  "language_info": {
   "codemirror_mode": {
    "name": "ipython",
    "version": 3
   },
   "file_extension": ".py",
   "mimetype": "text/x-python",
   "name": "python",
   "nbconvert_exporter": "python",
   "pygments_lexer": "ipython3",
   "version": "3.9.7"
  },
  "orig_nbformat": 4
 },
 "nbformat": 4,
 "nbformat_minor": 2
}
