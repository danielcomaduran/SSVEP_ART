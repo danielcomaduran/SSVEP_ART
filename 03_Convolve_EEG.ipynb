{
 "cells": [
  {
   "cell_type": "markdown",
   "metadata": {},
   "source": [
    "# Convolve EEG\n",
    "This Jupyter Notebook takes the imported `.npz` files containing the clean and artifact datasets and convolves the appropriate channels. The convolved data can be saved as a `.npz` file.\n",
    "\n",
    "The workflow is as follows:\n",
    "1. Import RAW datasets\n",
    "    - This will import the clean data as well as the eye movement (`eye`) and muscle artifact (`mus`) data.\n",
    "2. Combine the data\n",
    "    - Select `eye` or `mus` data to be convoluted with the clean data.\n",
    "3. Plot the clean and convolved power spectral density (PSD). This section is **optional** .\n",
    "4. Save the data in a `.npz` or `.mat` format for further analysis.The saved data contains the following variables:\n",
    "    - `clean`: Clean EEG data, organized in a tensor of samples $\\times$ channels $\\times$ ssvep stimulus [V].\n",
    "        The SSVEP stimulus are: 10, 12, and 15 Hz.\n",
    "    - `conv`: Convoluted clean and `eye` or `mus` artifact. The type of artifact is shown in the file name. The data is organized in the same fashion as `clean`.\n",
    "    - `clean_chans`: List of the channel names of the clean data (64)\n",
    "    - `chans`: List of the channels names in the 10-20 format (18). This number is smaller than `clean chans` because the Temple dataset has fewer channels.\n",
    "    - `srate`: Sampling rate of the data [Hz]."
   ]
  },
  {
   "cell_type": "code",
   "execution_count": 16,
   "metadata": {},
   "outputs": [],
   "source": [
    "# Import libraries\n",
    "import os\n",
    "import numpy as np\n",
    "import scipy.signal as signal\n",
    "import scipy.io\n",
    "import matplotlib.pyplot as plt\n",
    "\n",
    "# Determine working directory\n",
    "files_path = os.getcwd()"
   ]
  },
  {
   "cell_type": "markdown",
   "metadata": {},
   "source": [
    "## Import RAW datasets\n",
    "First, we will import the BETA and Temple University datasets in the `.npz` format\n",
    "\n",
    "**Note**: Datasets are in [V]. However, the plots are scaled to [$\\mu$ V]."
   ]
  },
  {
   "cell_type": "code",
   "execution_count": 17,
   "metadata": {},
   "outputs": [],
   "source": [
    "# Settings\n",
    "plot_raw = False # Boolean to plot raw data after imported\n",
    "ssvep_plot = 0  # SSVEP stimulus to plot\n",
    "                # - 0 = 10 Hz\n",
    "                # - 1 = 12 Hz\n",
    "                # - 2 = 15 Hz\n",
    "artifact_plot = 0   # Index of artifact to plot\n",
    "                    # Note: eye and muscle artifacts might have different number of indices\n",
    "beta_file = '\\\\Data\\Imported\\S1.npz'                # Relative path to BETA file\n",
    "temple_file = '\\\\Data\\\\Imported\\\\artifact_data.npz' # Relative path to Temple University file\n",
    "\n",
    "# Import data\n",
    "clean = np.load(files_path+beta_file, allow_pickle=True) \n",
    "artifact = np.load(files_path+temple_file, allow_pickle=True) \n",
    "\n",
    "# Check that sampling rates are the same\n",
    "if clean['srate'] == artifact['srate']:\n",
    "    srate = clean['srate']\n",
    "else:\n",
    "    print('Warning sampling rates of clean and artifact data are not the same')\n",
    "    print(f'Clean =',clean['srate'])\n",
    "    print(f'Artifact = '+artifact['srate'])\n",
    "\n",
    "# Print raw data if desired\n",
    "if plot_raw:\n",
    "    plot_clean = clean['eeg'][:,:,ssvep_plot]*1e6\n",
    "    time_eeg = np.linspace(0, len(plot_clean)/clean['srate'], len(plot_clean))\n",
    "\n",
    "    fig = plt.figure()\n",
    "    ax = fig.add_subplot(1,1,1)\n",
    "    ax.set_title('RAW | clean data')\n",
    "    ax.set_xlabel('Time [sec]')\n",
    "    ax.set_ylabel('Amplitude [$\\mu$V]')\n",
    "    ax.plot(time_eeg, plot_clean)\n",
    "    # ax.plot(time_eeg, clean_eeg[:,ic_chans,2])\n",
    "    ax.grid()\n",
    "    plt.show()\n",
    "\n",
    "    plot_eye = artifact['eye_eeg'][artifact_plot]*1e6\n",
    "    plot_mus = artifact['mus_eeg'][artifact_plot]*1e6\n",
    "    time_eye = np.linspace(0, len(plot_eye)/artifact['srate'], len(plot_eye))\n",
    "    time_mus = np.linspace(0, len(plot_mus)/artifact['srate'], len(plot_mus))\n",
    "\n",
    "    [fig, axs] = plt.subplots(2,1)\n",
    "    axs[0].set_title('RAW | Artifact data')\n",
    "    axs[0].set_ylabel('Eye [$\\mu$V]')\n",
    "    axs[0].grid()\n",
    "    axs[0].plot(time_eye, plot_eye)\n",
    "    axs[1].set_ylabel('Muscle [$\\mu$V]')\n",
    "    axs[1].set_xlabel('Time [sec]')\n",
    "    axs[1].grid()\n",
    "    axs[1].plot(time_mus, plot_mus)\n",
    "    plt.show()"
   ]
  },
  {
   "cell_type": "markdown",
   "metadata": {},
   "source": [
    "## Combine data\n",
    "This section combines the data from the clean trials with the artifact data. The clean data has **64** EEG channels while the artifact data has **15** EEG channels. This section of the code makes sure that you are using the same channels in both datasets"
   ]
  },
  {
   "cell_type": "code",
   "execution_count": 18,
   "metadata": {},
   "outputs": [
    {
     "name": "stdout",
     "output_type": "stream",
     "text": [
      "Channels kept: ['C3' 'C4' 'CZ' 'F3' 'F4' 'F7' 'F8' 'FP1' 'FP2' 'FZ' 'O1' 'O2' 'P3' 'P4'\n",
      " 'PZ']\n"
     ]
    }
   ],
   "source": [
    "# Settings\n",
    "plot_conv = False   # Boolean to plot the convolved data\n",
    "select_artifact = 'eye'     # Select type of artifact -> Options = 'eye', or 'mus'\n",
    "select_artifact_block = 3   # Select block of artifact\n",
    "\n",
    "# Find sorted intersection of channels\n",
    "# - Setup channels to find intersection\n",
    "artifact_chans = artifact['chans'][0:19] # Order of selected channels to use [n=19]\n",
    "clean_chans = clean['chans'][:,3] # Order of clean channels [n=64]  \n",
    "\n",
    "# - Find channel intersection\n",
    "# -- chans = combined channels\n",
    "# -- ic_chans = Indexes of clean channels\n",
    "# -- ia_chans = Indexes of artifact channels\n",
    "[chans, ic_chans, ia_chans] = np.intersect1d(clean_chans, artifact_chans, return_indices=True)  \n",
    "print(f'Channels kept: {chans}')\n",
    "\n",
    "# For each ssvep stimulus \n",
    "# Note: Only the intersecting channels are selected\n",
    "conv_data = np.empty(len(clean['ssvep']), dtype='object')\n",
    "time_conv = np.empty(len(clean['ssvep']), dtype='object')\n",
    "\n",
    "for [i,ssvep] in np.ndenumerate(clean['ssvep']):\n",
    "    temp_data = np.squeeze(clean['eeg'][:,ic_chans,i])\n",
    "    \n",
    "    if select_artifact == 'eye':\n",
    "        temp_artifact = artifact['eye_eeg'][select_artifact_block][:,ia_chans]\n",
    "    elif select_artifact == 'mus':\n",
    "        temp_artifact = artifact['mus_eeg'][select_artifact_block][:,ia_chans]\n",
    "    else:\n",
    "        print('Warning, wrong type of artifact selected')\n",
    "\n",
    "    # Convolve data\n",
    "    conv_data[i] = signal.convolve(temp_data, temp_artifact, mode='same', method='fft')\n",
    "    # conv_data[i] = signal.convolve(temp_data, temp_artifact, mode='full')\n",
    "    time_conv[i] = np.linspace(0, len(conv_data[i])/srate, len(conv_data[i]))\n",
    "\n",
    "    if plot_conv:\n",
    "        fig = plt.figure()\n",
    "        ax = fig.add_subplot(1,1,1)\n",
    "        ax.set_xlabel('Time [sec]')\n",
    "        ax.set_ylabel(f'SSVEP - {ssvep} Hz [$\\mu$V]')\n",
    "        ax.grid()\n",
    "        plt.plot(time_conv[i], conv_data[i]*1e6)\n",
    "        plt.show()"
   ]
  },
  {
   "cell_type": "code",
   "execution_count": 19,
   "metadata": {},
   "outputs": [
    {
     "data": {
      "text/plain": [
       "(750, 15)"
      ]
     },
     "execution_count": 19,
     "metadata": {},
     "output_type": "execute_result"
    }
   ],
   "source": [
    "np.shape(conv_data[0])"
   ]
  },
  {
   "cell_type": "markdown",
   "metadata": {},
   "source": [
    "## Plot PSD\n",
    "This section plots the power spectral density (PSD) of the clean and convoluted (EEG + artifact) data."
   ]
  },
  {
   "cell_type": "code",
   "execution_count": 20,
   "metadata": {},
   "outputs": [],
   "source": [
    "plot_psd = False # Boolean to plot the PSD of the data\n",
    "\n",
    "if plot_psd:\n",
    "    for [i,ssvep] in np.ndenumerate(clean['ssvep']):     \n",
    "        # - Clean data\n",
    "        eeg_temp = np.squeeze(clean['eeg'][:,:,i]) # Enable for clean data\n",
    "        clean_win = np.ones(len(eeg_temp))\n",
    "        [f_clean, pxx_clean] = signal.welch(eeg_temp, fs=srate, window=clean_win, axis=0)\n",
    "        \n",
    "        # - Convoluted data\n",
    "        data = conv_data[i]\n",
    "        win = np.ones(len(data))\n",
    "        [f, pxx] = signal.welch(data, fs=srate, window=win, axis=0)\n",
    "\n",
    "        fig, ax = plt.subplots(2,1)\n",
    "        ax[0].set_xlabel('Frequency [Hz]')\n",
    "        ax[0].set_ylabel('Clean PSD\\n[V$^2$/Hz]')\n",
    "        ax[0].set_xlim(5, 35)\n",
    "        ax[0].set_title(f'SSVEP - {ssvep} Hz')\n",
    "        ax[0].grid()\n",
    "        ax[0].plot(f_clean, pxx_clean)\n",
    "\n",
    "        ax[1].set_ylabel('Convolved PSD\\n[V$^2$/Hz]')\n",
    "        ax[1].set_xlim(5, 35)\n",
    "        ax[1].grid()\n",
    "        ax[1].plot(f, pxx)\n",
    "\n",
    "        plt.tight_layout()\n",
    "        plt.show()"
   ]
  },
  {
   "cell_type": "markdown",
   "metadata": {},
   "source": [
    "## Save data\n",
    "Save clean and convolved data to the same file, include the channels and sampling rate [Hz]"
   ]
  },
  {
   "cell_type": "code",
   "execution_count": 21,
   "metadata": {},
   "outputs": [],
   "source": [
    "save_data = True   # Boolean to save convolved data\n",
    "save_matlab = True  # Boolean to save Matlab formatted data\n",
    "save_loc = 'Data\\\\Convolved'\n",
    "save_name = f'conv_{select_artifact}_data'\n",
    "\n",
    "# Determine parent directory\n",
    "par_dir = os.getcwd()\n",
    "\n",
    "# Check if save_loc exist. If it doesn't exist, create it        \n",
    "if os.path.isdir(os.path.join(par_dir, save_loc)):\n",
    "    pass\n",
    "else:\n",
    "    os.mkdir(os.path.join(par_dir, save_loc))\n",
    "\n",
    "# Concatenate full file name\n",
    "full_file_name = os.path.join(par_dir,save_loc,save_name)\n",
    "\n",
    "if save_data:   \n",
    "    np.savez(full_file_name, clean=clean['eeg'], conv=conv_data, \\\n",
    "        clean_chans=clean_chans, chans=chans, srate=srate)\n",
    "\n",
    "if save_matlab:\n",
    "    data_dict = {'clean':clean['eeg'], 'conv':conv_data, 'clean_chans':clean_chans, \\\n",
    "        'chans':chans, 'srate':srate}\n",
    "    scipy.io.savemat(full_file_name+'.mat', data_dict)"
   ]
  }
 ],
 "metadata": {
  "interpreter": {
   "hash": "fb698bdeab99cfbf9e31cab566d99a06e057f2dec3dcc8097ebabb329e860e16"
  },
  "kernelspec": {
   "display_name": "Python 3.9.7 64-bit ('base': conda)",
   "language": "python",
   "name": "python3"
  },
  "language_info": {
   "codemirror_mode": {
    "name": "ipython",
    "version": 3
   },
   "file_extension": ".py",
   "mimetype": "text/x-python",
   "name": "python",
   "nbconvert_exporter": "python",
   "pygments_lexer": "ipython3",
   "version": "3.9.7"
  },
  "orig_nbformat": 4
 },
 "nbformat": 4,
 "nbformat_minor": 2
}
