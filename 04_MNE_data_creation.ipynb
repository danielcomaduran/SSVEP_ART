{
 "cells": [
  {
   "cell_type": "markdown",
   "metadata": {},
   "source": [
    "# MNE Data Creation\n",
    "After running the [03_Convolve_EEG](./03_Convolve_EEG.ipynb) Jupyter Notebook. The data is still not in a format that can be imported into MNE. Not all the required channels are included, nor are they in the correct format.\n",
    "\n",
    "This notebook, takes the convolved data and organizes it in the correct format so that the data can be used with MNE."
   ]
  },
  {
   "cell_type": "code",
   "execution_count": 1,
   "metadata": {},
   "outputs": [],
   "source": [
    "%matplotlib qt\n",
    "\n",
    "# Import modules\n",
    "import os\n",
    "import mne as mne\n",
    "import numpy as np\n",
    "import matplotlib.pyplot as plt"
   ]
  },
  {
   "cell_type": "markdown",
   "metadata": {},
   "source": [
    "## Import and organize data\n",
    "Import data nd organize channels in regular 10-20 configuration, based on the channel labels"
   ]
  },
  {
   "cell_type": "code",
   "execution_count": 11,
   "metadata": {},
   "outputs": [],
   "source": [
    "# Settings\n",
    "data_file = 'Data\\\\Convolved\\\\conv_eye_data.npz'\n",
    "path = os.getcwd()\n",
    "montage =  '1020'\n",
    "\n",
    "# Load data and separate variables\n",
    "data = np.load(os.path.join(path, data_file), allow_pickle=True)\n",
    "eeg = data['conv']  # EEG matrix [SSVEP x samples x channels] [V]\n",
    "chans = data['chans']   # Channel names\n",
    "srate = data['srate']   # Sampling rate [Hz]\n"
   ]
  }
 ],
 "metadata": {
  "interpreter": {
   "hash": "fb698bdeab99cfbf9e31cab566d99a06e057f2dec3dcc8097ebabb329e860e16"
  },
  "kernelspec": {
   "display_name": "Python 3.9.7 ('base')",
   "language": "python",
   "name": "python3"
  },
  "language_info": {
   "codemirror_mode": {
    "name": "ipython",
    "version": 3
   },
   "file_extension": ".py",
   "mimetype": "text/x-python",
   "name": "python",
   "nbconvert_exporter": "python",
   "pygments_lexer": "ipython3",
   "version": "3.9.7"
  },
  "orig_nbformat": 4
 },
 "nbformat": 4,
 "nbformat_minor": 2
}
