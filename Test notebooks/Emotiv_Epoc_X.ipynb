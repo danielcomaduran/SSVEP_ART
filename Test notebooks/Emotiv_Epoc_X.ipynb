{
 "cells": [
  {
   "cell_type": "markdown",
   "metadata": {},
   "source": [
    "# Emotiv Epoc X"
   ]
  },
  {
   "cell_type": "code",
   "execution_count": 24,
   "metadata": {},
   "outputs": [
    {
     "name": "stdout",
     "output_type": "stream",
     "text": [
      "Extracting EDF parameters from C:\\Users\\danie\\OneDrive - University of Calgary\\PDF\\Proyects\\SSVEP_ART\\Data\\Emotiv Epoc X\\OKB\\SSVEP_17Hz_OKB_Mar22_EPOCX_126582_2021.03.22T17.45.11.06.00.edf...\n",
      "EDF file detected\n",
      "Setting channel info structure...\n",
      "Creating raw.info structure...\n"
     ]
    }
   ],
   "source": [
    "# %matplotlib widget # Inline interactive plots\n",
    "%matplotlib qt \n",
    "# Windowed interactive plots\n",
    "\n",
    "## Import libraries\n",
    "import os\n",
    "import mne\n",
    "import sys\n",
    "sys.path.append(\"..\") # Adds higher directory to python modules path.\n",
    "import numpy as np\n",
    "import scipy.signal as signal\n",
    "import matplotlib.pyplot as plt\n",
    "from Functions import artifact_removal_tools as art\n",
    "\n",
    "#%% Import and organize\n",
    "# - Import data\n",
    "# full_path = 'C:\\\\Users\\\\danie\\\\OneDrive - University of Calgary\\\\PDF\\\\Proyects\\\\SSVEP_ART\\\\Data\\\\Emotiv Epoc X\\\\LF\\\\HeadRolls_LF_Mar23_EPOCX_126787_2021.03.23T17.22.54.06.00.edf'\n",
    "# full_path = 'C:\\\\Users\\\\danie\\\\OneDrive - University of Calgary\\\\PDF\\\\Proyects\\\\SSVEP_ART\\\\Data\\\\Emotiv Epoc X\\\\LF\\\\SSVEP_10Hz_LF_Mar23_EPOCX_126787_2021.03.23T17.18.27.06.00.edf'\n",
    "# full_path = 'C:\\\\Users\\\\danie\\\\OneDrive - University of Calgary\\\\PDF\\\\Proyects\\\\SSVEP_ART\\\\Data\\\\Emotiv Epoc X\\\\OKB\\\\SSVEP_10Hz_OKB_Mar22_EPOCX_126582_2021.03.22T17.42.37.06.00.edf'\n",
    "full_path = 'C:\\\\Users\\\\danie\\\\OneDrive - University of Calgary\\\\PDF\\\\Proyects\\\\SSVEP_ART\\\\Data\\\\Emotiv Epoc X\\\\OKB\\\\SSVEP_17Hz_OKB_Mar22_EPOCX_126582_2021.03.22T17.45.11.06.00.edf'\n",
    "edf_data = mne.io.read_raw_edf(full_path)\n",
    "\n",
    "# - Organize data\n",
    "srate = edf_data.info['sfreq']          # Sampling frequency [Hz]\n",
    "ch_names = edf_data.info['ch_names']    # Channel names [list]\n",
    "raw_data = edf_data.get_data(range(4,18))          # Raw data [channels x samples] [V]\n",
    "\n",
    "#%% Notebook settings\n",
    "plot_edf = True # Boolean to plot raw data\n"
   ]
  },
  {
   "cell_type": "markdown",
   "metadata": {},
   "source": [
    "## Plot EDF data"
   ]
  },
  {
   "cell_type": "code",
   "execution_count": 25,
   "metadata": {},
   "outputs": [],
   "source": [
    "if plot_edf:\n",
    "    edf_data.plot()"
   ]
  },
  {
   "cell_type": "markdown",
   "metadata": {},
   "source": [
    "## Separate channels"
   ]
  },
  {
   "cell_type": "code",
   "execution_count": 26,
   "metadata": {},
   "outputs": [],
   "source": [
    "\n",
    "time_trim = [45, 55]  # Time start and end to trim EEG [sec]\n",
    "np.diff(time_trim)\n",
    "time_vect = np.linspace(time_trim[0], time_trim[1], int(np.diff(time_trim)*srate))\n",
    "raw_trim = raw_data[:,int(time_trim[0]*srate):int(time_trim[1]*srate)]\n",
    "clean_eeg, artifact_eeg = art.remove_eyeblinks(raw_trim, srate, n_clusters=10, fd_threshold=1.6)\n"
   ]
  },
  {
   "cell_type": "markdown",
   "metadata": {},
   "source": [
    "## Plot cleaned EEG"
   ]
  },
  {
   "cell_type": "code",
   "execution_count": 27,
   "metadata": {},
   "outputs": [],
   "source": [
    "chans_plot = range(3)   # List of integers with channels to plot\n",
    "\n",
    "fig, ax = plt.subplots(len(chans_plot),1)\n",
    "for chan in chans_plot:\n",
    "    ax[chan].plot(time_vect, 1e6*(raw_trim[chan,:]-np.mean(raw_trim[chan,:])))\n",
    "    # ax[chan].plot(time_vect, 1e6*(raw_trim[chan,:]))\n",
    "    ax[chan].plot(time_vect, 1e6*(clean_eeg[chan,:]))\n",
    "    ax[chan].grid()\n",
    "\n",
    "ax[0].legend(['Contaminated', 'Clean'], loc='upper right')\n",
    "ax[1].set_ylabel('EEG [$\\mu$V]')\n",
    "ax[2].set_xlabel('Time [sec]')\n",
    "plt.show()"
   ]
  },
  {
   "cell_type": "markdown",
   "metadata": {},
   "source": [
    "## Plot Power Spectral Densities"
   ]
  },
  {
   "cell_type": "code",
   "execution_count": 29,
   "metadata": {},
   "outputs": [],
   "source": [
    "chans_psd = [6,7]\n",
    "win = np.ones(np.size(clean_eeg, axis=1))\n",
    "f_raw , psd_raw = signal.welch(raw_trim[chans_psd,:], fs=srate, window=win)\n",
    "f_clean, psd_clean = signal.welch(clean_eeg[chans_psd,:], fs=srate, window=win)\n",
    "\n",
    "psd_xlims = [10, 30]\n",
    "psd_ylims = [0, 1e-10]\n",
    "# psd_ylims = [0, None]\n",
    "\n",
    "fig, ax = plt.subplots(2,1)\n",
    "ax[0].plot(f_raw, psd_raw.T)\n",
    "ax[0].set_title('RAW')\n",
    "ax[0].set_ylabel('PSD [$V^2/Hz$]')\n",
    "ax[0].set_xlim((psd_xlims[0], psd_xlims[1]))\n",
    "ax[0].set_ylim((psd_ylims[0], psd_ylims[1]))\n",
    "ax[0].grid()\n",
    "\n",
    "ax[1].plot(f_clean, psd_clean.T)\n",
    "ax[1].set_title('Cleaned')\n",
    "ax[1].set_ylabel('PSD [$V^2/Hz$]')\n",
    "ax[1].set_xlabel('Frequency [Hz]')\n",
    "ax[1].set_xlim((psd_xlims[0], psd_xlims[1]))\n",
    "ax[1].set_ylim((psd_ylims[0], psd_ylims[1]))\n",
    "ax[1].grid()\n",
    "\n",
    "plt.tight_layout()"
   ]
  }
 ],
 "metadata": {
  "interpreter": {
   "hash": "fb698bdeab99cfbf9e31cab566d99a06e057f2dec3dcc8097ebabb329e860e16"
  },
  "kernelspec": {
   "display_name": "Python 3.9.7 ('base')",
   "language": "python",
   "name": "python3"
  },
  "language_info": {
   "codemirror_mode": {
    "name": "ipython",
    "version": 3
   },
   "file_extension": ".py",
   "mimetype": "text/x-python",
   "name": "python",
   "nbconvert_exporter": "python",
   "pygments_lexer": "ipython3",
   "version": "3.9.7"
  },
  "orig_nbformat": 4
 },
 "nbformat": 4,
 "nbformat_minor": 2
}
