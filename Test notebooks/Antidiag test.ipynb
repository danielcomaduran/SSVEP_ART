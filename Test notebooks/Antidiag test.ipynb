{
 "cells": [
  {
   "cell_type": "markdown",
   "metadata": {},
   "source": [
    "# Antidiagonal test\n",
    "\n",
    "This notebook is to test the speed of multiple antidiagonal averaging approaches.\n",
    "A `m x k` matrix is created where all antidiagonal elements can be random or they can be increments of 1. The increments of 1 scenario is used to test wether the algorithms are calculating the right values."
   ]
  },
  {
   "cell_type": "code",
   "execution_count": 1,
   "metadata": {},
   "outputs": [],
   "source": [
    "# Import libraries\n",
    "import numpy as np\n",
    "import time\n",
    "\n",
    "# Settings\n",
    "m = 15   # Number of rows\n",
    "k = 2500  # Number of columns\n",
    "n = k + m - 1   # Number of samples for storing the results\n",
    "mat_method = 'rands' # Method to generate matrix\n",
    "                    # 'rand' = Matrix filled with random numbers\n",
    "                    # 'ints' = Matrix filled with antigiadonals ints incrementing by 1\n",
    "\n",
    "# Create matrix based on selected method\n",
    "raw_mat = np.ones((m,k))   # Initialize matrix\n",
    "\n",
    "if mat_method == 'rands':\n",
    "    raw_mat = np.random.rand(m,k)\n",
    "    flipped_mat = np.fliplr(raw_mat)\n",
    "elif mat_method == 'ints':\n",
    "    flipped_mat = np.zeros_like(raw_mat)    # Create flipped matrix \n",
    "    \n",
    "    # For each row and column, fill the matrix with the correct integer\n",
    "    for idx_m in range(m):                  \n",
    "        for idx_k in range(k): \n",
    "            flipped_mat[idx_m,idx_k] = -idx_m + idx_k\n",
    "    \n",
    "    # Flip matrix to get the right orientation\n",
    "    raw_mat = np.fliplr(flipped_mat)\n"
   ]
  },
  {
   "cell_type": "markdown",
   "metadata": {},
   "source": [
    "## First method\n",
    "\n",
    "In this first implementation, I flipped the matrix once, then I calculated each antidiagonal and computed its mean. This mean would then be stored in the corresponding value of the resulting vector. This methos is implemented using functions and methods to show their speed difference.\n",
    "\n",
    "### Numpy functions implementation\n"
   ]
  },
  {
   "cell_type": "code",
   "execution_count": 2,
   "metadata": {},
   "outputs": [],
   "source": [
    "vect1 = np.zeros(n)  # Initialize new vector\n",
    "\n",
    "time_start1 = time.time()\n",
    "temp_mat1 = np.fliplr(raw_mat)  # Temporary matrix with original matrix flipped from left to right\n",
    "\n",
    "for i_diag, k_diag in enumerate(range(-m+1, k)):\n",
    "    vect1[-i_diag-1] = np.mean(np.diag(temp_mat1, k=k_diag))\n",
    "\n",
    "time_end1 = time.time()"
   ]
  },
  {
   "cell_type": "markdown",
   "metadata": {},
   "source": [
    "### Numpy methods implementation"
   ]
  },
  {
   "cell_type": "code",
   "execution_count": 3,
   "metadata": {},
   "outputs": [],
   "source": [
    "vect2 = np.zeros(n)  # Initialize new vector\n",
    "\n",
    "time_start2 = time.time()\n",
    "temp_mat2 = np.fliplr(raw_mat)  # Temporary matrix with original matrix flipped from left to right\n",
    "\n",
    "for i_diag, k_diag in enumerate(range(-m+1, k)):\n",
    "    vect2[-i_diag-1] = temp_mat2.diagonal(offset=k_diag).mean()\n",
    "\n",
    "time_end2 = time.time()"
   ]
  },
  {
   "cell_type": "markdown",
   "metadata": {},
   "source": [
    "## Second method\n",
    "\n",
    "The second method consists on generating a temporary matrix where each column has the values of the k<sup>th</sup> diagonal. A second matrix consisting on booleans to determine the indices used for the average computations. This second matrix is needed as the lenght of the diagonals are not the same. Lastly, the mean value of each column is calculated only for the true values of the second matrix."
   ]
  },
  {
   "cell_type": "code",
   "execution_count": 4,
   "metadata": {},
   "outputs": [],
   "source": [
    "time_start3 = time.time()\n",
    "\n",
    "max_diag = (raw_mat.diagonal(offset=0)).size  # Size of longest diagonal\n",
    "temp_flip = np.fliplr(raw_mat)\n",
    "temp_mat3 = np.zeros((max_diag,n))               # Empty matrix to store the values\n",
    "temp_mask = np.zeros((max_diag,n))\n",
    "\n",
    "for i,k_diag in enumerate(range(-m+1, k)):\n",
    "    diag_vals = temp_flip.diagonal(offset=k_diag)\n",
    "    n_diag = diag_vals.size\n",
    "    temp_mat3[0:n_diag,i] = diag_vals\n",
    "    temp_mask[0:n_diag,i] = 1\n",
    "\n",
    "vect3 = np.flip(temp_mat3.mean(axis=0, where=temp_mask.astype(bool)))\n",
    "\n",
    "time_end3 = time.time()"
   ]
  },
  {
   "cell_type": "markdown",
   "metadata": {},
   "source": [
    "## Third method\n",
    "\n",
    "The third method is similar to the second method but instead of an the diagonal values and mask matrices, we use a list where each element of the list consists of the elements in the k<sup>th</sup> diagonal. Then, a second for loop is used to calculate the mean values of each of the list components."
   ]
  },
  {
   "cell_type": "code",
   "execution_count": 5,
   "metadata": {},
   "outputs": [],
   "source": [
    "vect4 = np.zeros(n)  # Initialize new vector\n",
    "\n",
    "time_start4 = time.time()\n",
    "\n",
    "# Preallocate variables\n",
    "max_diag = np.size(raw_mat.diagonal(offset=0))  # Size of longest diagonal\n",
    "temp_list = [None] * n              # Temporary matrix to store results\n",
    "\n",
    "\n",
    "\n",
    "# Create list where the ith element includes all kth diagonals\n",
    "for i, k_diag in enumerate(range(-m+1, k)):\n",
    "    temp_list[i] = flipped_mat.diagonal(offset=k_diag)\n",
    "\n",
    "# Calculate average for each element on the list\n",
    "for i in range(n):\n",
    "    vect4[-i-1] = np.mean(temp_list[i])\n",
    "\n",
    "time_end4 = time.time()"
   ]
  },
  {
   "cell_type": "markdown",
   "metadata": {},
   "source": [
    "## Results\n",
    "\n",
    "### Time results\n",
    "\n",
    "Measure the time it takes to run each implementation"
   ]
  },
  {
   "cell_type": "code",
   "execution_count": 6,
   "metadata": {},
   "outputs": [
    {
     "name": "stdout",
     "output_type": "stream",
     "text": [
      "The results are\n",
      "Method 1 with functions = 20.00 msec\n",
      "Method 1 with methods = 10.00 msec\n",
      "Method 2 (array with mask) = 5.00 msec\n",
      "Method 3 (list) = 13.00 msec\n"
     ]
    }
   ],
   "source": [
    "print(\"The results are\")\n",
    "print(f\"Method 1 with functions = {1e3*(time_end1-time_start1):.2f} msec\")\n",
    "print(f\"Method 1 with methods = {1e3*(time_end2-time_start2):.2f} msec\")\n",
    "print(f\"Method 2 (array with mask) = {1e3*(time_end3-time_start3):.2f} msec\")\n",
    "print(f\"Method 3 (list) = {1e3*(time_end4-time_start4):.2f} msec\")"
   ]
  },
  {
   "cell_type": "markdown",
   "metadata": {},
   "source": [
    "### Implementation results\n",
    "\n",
    "Make sure that all implementations yield to the same results"
   ]
  },
  {
   "cell_type": "code",
   "execution_count": 7,
   "metadata": {},
   "outputs": [
    {
     "name": "stdout",
     "output_type": "stream",
     "text": [
      "Method 1f == Method 1m: True\n",
      "Method 1f == Method 2: True\n",
      "Method 1f == Method 3: True\n"
     ]
    }
   ],
   "source": [
    "print(f\"Method 1f == Method 1m: {np.allclose(vect1, vect2)}\")\n",
    "print(f\"Method 1f == Method 2: {np.allclose(vect1, vect3)}\")\n",
    "print(f\"Method 1f == Method 3: {np.allclose(vect1, vect4)}\")"
   ]
  },
  {
   "cell_type": "markdown",
   "metadata": {},
   "source": [
    "## Conclusions\n",
    "\n",
    "From this implementations we can conclude that the second method is a bit faster. However, this speed benefit starts to become irrelevant for large matrix sizes (e.g., 250 channels x 25k data points). The memory resources were not measured in this test."
   ]
  }
 ],
 "metadata": {
  "interpreter": {
   "hash": "db7aaa4ccc756bd30d174287daa6f79a7593b36d39f4109de72b7389725186bb"
  },
  "kernelspec": {
   "display_name": "Python 3.9.12 ('bci_art')",
   "language": "python",
   "name": "python3"
  },
  "language_info": {
   "codemirror_mode": {
    "name": "ipython",
    "version": 3
   },
   "file_extension": ".py",
   "mimetype": "text/x-python",
   "name": "python",
   "nbconvert_exporter": "python",
   "pygments_lexer": "ipython3",
   "version": "3.9.12"
  },
  "orig_nbformat": 4
 },
 "nbformat": 4,
 "nbformat_minor": 2
}
