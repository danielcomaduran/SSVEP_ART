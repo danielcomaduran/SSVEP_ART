{
 "cells": [
  {
   "cell_type": "markdown",
   "metadata": {},
   "source": [
    "# Implementation timing \n",
    "\n",
    "This notebook uses the `%timeit` magic command to time different implementations in the artifact removal tool.\n",
    "The notebook is set to use one file from the [Emotiv Epoc X](/Data/Emotiv%20Epoc%20X/) dataset. However, you can change the location and import section of the code, to test with other files."
   ]
  },
  {
   "cell_type": "code",
   "execution_count": 9,
   "metadata": {},
   "outputs": [],
   "source": [
    "#%% Import libraries\n",
    "import mne\n",
    "import sys\n",
    "import numpy as np\n",
    "sys.path.append(\"..\") # Adds higher directory to python modules path.\n",
    "from Functions import artifact_removal_tools as art"
   ]
  },
  {
   "cell_type": "markdown",
   "metadata": {},
   "source": [
    "## Import and trim data\n",
    "\n",
    "Select data to import and trim to a shorter length"
   ]
  },
  {
   "cell_type": "code",
   "execution_count": 10,
   "metadata": {},
   "outputs": [],
   "source": [
    "# - Import data\n",
    "full_path = 'C:\\\\Users\\\\danie\\\\OneDrive - University of Calgary\\\\PDF\\\\Proyects\\\\SSVEP_ART\\\\Data\\\\Emotiv Epoc X\\\\OKB\\\\SSVEP_17Hz_OKB_Mar22_EPOCX_126582_2021.03.22T17.45.11.06.00.edf'\n",
    "edf_data = mne.io.read_raw_edf(full_path, verbose=False)\n",
    "\n",
    "# - Organize data\n",
    "srate = edf_data.info['sfreq']              # Sampling frequency [Hz]\n",
    "ch_names = edf_data.info['ch_names']        # Channel names [list]\n",
    "raw_data = edf_data.get_data(range(4,18))   # Raw data [channels x samples] [V]\n",
    "\n",
    "# - Trim data\n",
    "time_trim = [45, 55]  # Time start and end to trim EEG [sec]\n",
    "time_vect = np.linspace(time_trim[0], time_trim[1], int(np.diff(time_trim)*srate))  # Time vector [sec]\n",
    "raw_trim = raw_data[2,int(time_trim[0]*srate):int(time_trim[1]*srate)]              # Raw EEG trimmed [V]"
   ]
  },
  {
   "cell_type": "markdown",
   "metadata": {},
   "source": [
    "## Time implementations\n",
    "\n",
    "Switch implementations and time them. The implementations include the following options.\n",
    "- SVD method\n",
    "    - `sci` = Use scipy to calculate SVD\n",
    "    - `np` = Use numpy to calculate SVD\n",
    "- Antidiag method\n",
    "    - `mask` = Compute matrix with antidiagonals and boolean mask, calculate mean of matrix\n",
    "    - `simple` = Iterate through each antidiagonal and calculate mean value  "
   ]
  },
  {
   "cell_type": "code",
   "execution_count": 11,
   "metadata": {},
   "outputs": [
    {
     "name": "stdout",
     "output_type": "stream",
     "text": [
      "SVD_method = sci, antidiag_method = mask\n",
      "110 ms ± 1.05 ms per loop (mean ± std. dev. of 5 runs, 10 loops each)\n"
     ]
    }
   ],
   "source": [
    "print('SVD_method = sci, antidiag_method = mask')\n",
    "%timeit -r 5 art.remove_eyeblinks_cpu(raw_trim, srate, n_clusters=10, fd_threshold=1.6, window_length=0.3, svd_method='sci', antidiag_method='mask')"
   ]
  },
  {
   "cell_type": "code",
   "execution_count": 12,
   "metadata": {},
   "outputs": [
    {
     "name": "stdout",
     "output_type": "stream",
     "text": [
      "SVD_method = sci, antidiag_method = simple\n",
      "121 ms ± 2.32 ms per loop (mean ± std. dev. of 5 runs, 10 loops each)\n"
     ]
    }
   ],
   "source": [
    "print('SVD_method = sci, antidiag_method = simple')\n",
    "%timeit -r 5 art.remove_eyeblinks_cpu(raw_trim, srate, n_clusters=10, fd_threshold=1.6, window_length=0.3, svd_method='sci', antidiag_method='simple')"
   ]
  },
  {
   "cell_type": "code",
   "execution_count": 13,
   "metadata": {},
   "outputs": [
    {
     "name": "stdout",
     "output_type": "stream",
     "text": [
      "SVD_method = np, antidiag_method = mask\n",
      "149 ms ± 2.38 ms per loop (mean ± std. dev. of 5 runs, 10 loops each)\n"
     ]
    }
   ],
   "source": [
    "print('SVD_method = np, antidiag_method = mask')\n",
    "%timeit -r 5 art.remove_eyeblinks_cpu(raw_trim, srate, n_clusters=10, fd_threshold=1.6, window_length=0.3, svd_method='np', antidiag_method='mask')"
   ]
  },
  {
   "cell_type": "code",
   "execution_count": 14,
   "metadata": {},
   "outputs": [
    {
     "name": "stdout",
     "output_type": "stream",
     "text": [
      "SVD_method = np antidiag_method = mask\n",
      "181 ms ± 2.35 ms per loop (mean ± std. dev. of 5 runs, 10 loops each)\n"
     ]
    }
   ],
   "source": [
    "print('SVD_method = np antidiag_method = mask')\n",
    "%timeit -r 5 art.remove_eyeblinks_cpu(raw_trim, srate, n_clusters=10, fd_threshold=1.6, window_length=0.3, svd_method='np', antidiag_method='simple')"
   ]
  },
  {
   "cell_type": "markdown",
   "metadata": {},
   "source": [
    "## Results\n",
    "\n",
    "It seems from the results above that the fastest implementation is using `sci` and `mask` as the artifact removal tool options"
   ]
  }
 ],
 "metadata": {
  "interpreter": {
   "hash": "db7aaa4ccc756bd30d174287daa6f79a7593b36d39f4109de72b7389725186bb"
  },
  "kernelspec": {
   "display_name": "Python 3.9.12 ('bci_art')",
   "language": "python",
   "name": "python3"
  },
  "language_info": {
   "codemirror_mode": {
    "name": "ipython",
    "version": 3
   },
   "file_extension": ".py",
   "mimetype": "text/x-python",
   "name": "python",
   "nbconvert_exporter": "python",
   "pygments_lexer": "ipython3",
   "version": "3.9.12"
  },
  "orig_nbformat": 4
 },
 "nbformat": 4,
 "nbformat_minor": 2
}
